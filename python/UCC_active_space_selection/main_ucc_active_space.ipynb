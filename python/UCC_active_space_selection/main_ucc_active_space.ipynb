{
 "cells": [
  {
   "cell_type": "code",
   "execution_count": 1,
   "metadata": {},
   "outputs": [],
   "source": [
    "from qat.fermion.transforms import (get_jw_code, recode_integer)\n",
    "from qubit_pool import QubitPool\n",
    "from molecule_factory import MoleculeFactory\n",
    "from get_energy_ucc import EnergyUCC\n",
    "\n",
    "qubitpool = QubitPool()\n",
    "molecule_factory = MoleculeFactory()\n",
    "energy_ucc = EnergyUCC()"
   ]
  },
  {
   "cell_type": "code",
   "execution_count": 2,
   "metadata": {},
   "outputs": [],
   "source": [
    "molecule_symbol = 'H4'\n",
    "type_of_generator = 'sUPCCGSD'\n",
    "transform = 'JW'\n",
    "# the user type \"active = True\" the active space selection case\n",
    "# Here user is obliged to check the thresholds epsilon_1 and epsilon_2  inserted in \"MoleculeFactory\" to select: the active electorns and active orbitals\n",
    "active = True"
   ]
  },
  {
   "cell_type": "markdown",
   "metadata": {},
   "source": []
  },
  {
   "cell_type": "code",
   "execution_count": 3,
   "metadata": {
    "scrolled": false
   },
   "outputs": [
    {
     "name": "stdout",
     "output_type": "stream",
     "text": [
      " --------------------------------------------------------------------------\n",
      "Running in the active case: \n",
      "                     molecule symbol: H4 \n",
      "                     molecule basis: sto-3g \n",
      "                     type of generator: sUPCCGSD \n",
      "                     transform: JW \n",
      " --------------------------------------------------------------------------\n",
      " --------------------------------------------------------------------------\n",
      "                                                          \n",
      "                      Generate Hamiltonians and Properties from :\n",
      "                                                          \n",
      " --------------------------------------------------------------------------\n",
      "                                                          \n",
      "Number of electrons =  4\n",
      "Number of qubits before active space selection =  8\n",
      "Orbital energies =  [-0.70984573 -0.40884769  0.3923348   1.16930557]\n",
      "Nuclear repulsion =  2.697766173317647\n",
      "Noons =  [1.9815824741190093, 1.9433339987337899, 0.060548074134595176, 0.014535453012605892]\n",
      "threshold_1 chosen =  1.9394519258654048\n",
      "threshold_2 chosen =  0.014535453012605892\n",
      "Number of qubits after active space selection = 6\n",
      "length of active noons:  6\n",
      "length of orbital energies:  6\n",
      " --------------------------------------------------------------------------\n",
      "                                                          \n",
      "                      Generate Cluster OPS from :\n",
      "                                                          \n",
      " --------------------------------------------------------------------------\n",
      "                                                          \n",
      "HF energy= -2.1274100639510705\n",
      "MP2 energy= -2.160243703269621\n",
      "FCI energy= -2.178313632880397\n",
      "Form spin-adapted UpCCGSD operators pool: \n",
      "Pool size:  6\n",
      "length of the cluster OP:  6\n",
      "length of the cluster OPS:  6\n"
     ]
    },
    {
     "name": "stderr",
     "output_type": "stream",
     "text": [
      "/home/haidora7789/OpenVQE/python/cleaned_code/UCC_active_space_selection/molecule_factory.py:465: UserWarning: This guess_init_state function is deprecated.\n",
      "  n_elec, noons_full, orb_energies_full, hamiltonian.hpqrs\n"
     ]
    }
   ],
   "source": [
    "r, geometry, charge, spin, basis = molecule_factory.get_parameters(molecule_symbol)\n",
    "print(\" --------------------------------------------------------------------------\")\n",
    "print(\"Running in the active case: \")\n",
    "print(\"                     molecule symbol: %s \" %(molecule_symbol))\n",
    "print(\"                     molecule basis: %s \" %(basis))\n",
    "print(\"                     type of generator: %s \" %(type_of_generator))\n",
    "print(\"                     transform: %s \" %(transform))\n",
    "print(\" --------------------------------------------------------------------------\")\n",
    "\n",
    "print(\" --------------------------------------------------------------------------\")\n",
    "print(\"                                                          \")\n",
    "print(\"                      Generate Hamiltonians and Properties from :\")\n",
    "print(\"                                                          \")\n",
    "print(\" --------------------------------------------------------------------------\")\n",
    "print(\"                                                          \")\n",
    "\n",
    "hamiltonian, hamiltonian_sp, n_elec, noons_full, orb_energies_full, info = molecule_factory.generate_hamiltonian(molecule_symbol, active=active, transform=transform)\n",
    "\n",
    "print(\" --------------------------------------------------------------------------\")\n",
    "print(\"                                                          \")\n",
    "print(\"                      Generate Cluster OPS from :\")\n",
    "print(\"                                                          \")\n",
    "print(\" --------------------------------------------------------------------------\")\n",
    "print(\"                                                          \")\n",
    "\n",
    "# for UCCSD\n",
    "# pool_size,cluster_ops,cluster_ops_sp, theta_MP2, hf_init = molecule_factory.generate_cluster_ops(molecule_symbol, type_of_generator=type_of_generator, \n",
    "#                                transform=transform, active=active)\n",
    "# hf_init_sp = recode_integer(hf_init, get_jw_code(hamiltonian_sp.nbqbits))\n",
    "\n",
    "\n",
    "# for other types of generators\n",
    "pool_size,cluster_ops,cluster_ops_sp =molecule_factory.generate_cluster_ops(molecule_symbol, \n",
    "                    type_of_generator=type_of_generator, transform=transform, active=active)\n",
    "hf_init = molecule_factory.find_hf_init(hamiltonian, n_elec, noons_full, orb_energies_full)\n",
    "nbqbits = hamiltonian_sp.nbqbits\n",
    "reference_ket, hf_init_sp = molecule_factory.get_reference_ket(hf_init, nbqbits, transform)\n",
    "\n",
    "\n",
    "\n",
    "print('Pool size: ', pool_size)\n",
    "print('length of the cluster OP: ', len(cluster_ops))\n",
    "print('length of the cluster OPS: ', len(cluster_ops_sp))\n",
    "FCI = info['FCI']\n",
    "# print(hf_init_sp)"
   ]
  },
  {
   "cell_type": "code",
   "execution_count": 4,
   "metadata": {},
   "outputs": [
    {
     "name": "stdout",
     "output_type": "stream",
     "text": [
      "The current pool is without_Z_from_generator\n"
     ]
    }
   ],
   "source": [
    "nbqbits = hamiltonian_sp.nbqbits\n",
    "pool_type = 'without_Z_from_generator'\n",
    "qubit_pool = qubitpool.generate_pool(cluster_ops)\n",
    "len_returned_pool, returned_pool = qubitpool.generate_pool_without_cluster(pool_type=pool_type, \n",
    "                                                                        nbqbits=nbqbits, \n",
    "                                                                        qubit_pool=qubit_pool,\n",
    "                                                                        molecule_symbol=\n",
    "                                                                        molecule_symbol)\n",
    "\n",
    "# pool_condition='full_without_Z'\n",
    "# len_returned_pool, returned_pool = qubitpool.generate_hamiltonian_from_cluster(pool_condition, cluster_ops, nbqbits)\n",
    "    "
   ]
  },
  {
   "cell_type": "code",
   "execution_count": 5,
   "metadata": {},
   "outputs": [
    {
     "name": "stdout",
     "output_type": "stream",
     "text": [
      "6\n",
      "tolerance=  0.0001\n",
      "method=  SLSQP\n",
      "Optimization terminated successfully    (Exit mode 0)\n",
      "            Current function value: -2.1500542924513835\n",
      "            Iterations: 3\n",
      "            Function evaluations: 25\n",
      "            Gradient evaluations: 3\n",
      "Optimization terminated successfully    (Exit mode 0)\n",
      "            Current function value: -2.1499748626306383\n",
      "            Iterations: 3\n",
      "            Function evaluations: 23\n",
      "            Gradient evaluations: 3\n",
      "iterations are: {'minimum_energy_result1_guess': [-2.1500542924513835], 'minimum_energy_result2_guess': [-2.1499748626306383], 'theta_optimized_result1': [[-0.0013597570622389137, 0.005350006176654091, 0.010176423956701824, -0.1417612778394864, -0.03267633201353982, 0.003722342650564466]], 'theta_optimized_result2': [[0.0005848717116957872, -0.00206351711992418, 0.010092859630179205, -0.14069427567344203, -0.032850830196679295, 0.003704668557825702]]}\n",
      "results are: {'CNOT1': 208, 'CNOT2': 168, 'len_op1': 6, 'len_op2': 6, 'energies1_substracted_from_FCI': 0.028259340429015456, 'energies2_substracted_from_FCI': 0.028338770249760614}\n"
     ]
    }
   ],
   "source": [
    "# theta_current1 = theta_MP2\n",
    "# theta_current2 = theta_MP2\n",
    "# print(theta_current1)\n",
    "print(len(cluster_ops_sp))\n",
    "pool_generator = returned_pool\n",
    "theta_current1 = []\n",
    "theta_current2 = []\n",
    "ansatz_ops = []\n",
    "ansatz_q_ops = []\n",
    "for i in range(len(cluster_ops_sp)):\n",
    "    theta_current1.append(0.01)\n",
    "\n",
    "for i in range(len(returned_pool)):\n",
    "    theta_current2.append(0.01)\n",
    "# for UCCS skip 1j\n",
    "for i in cluster_ops_sp:\n",
    "    ansatz_ops.append(i*1j)\n",
    "for i in pool_generator:\n",
    "    ansatz_q_ops.append(i)\n",
    "iterations, result = energy_ucc.get_energies(hamiltonian_sp,ansatz_ops,ansatz_q_ops,hf_init_sp,theta_current1,theta_current2,FCI)\n",
    "print(\"iterations are:\", iterations)\n",
    "print(\"results are:\", result)"
   ]
  },
  {
   "cell_type": "code",
   "execution_count": null,
   "metadata": {},
   "outputs": [],
   "source": [
    "print(iterations, result)"
   ]
  },
  {
   "cell_type": "code",
   "execution_count": null,
   "metadata": {},
   "outputs": [],
   "source": []
  }
 ],
 "metadata": {
  "kernelspec": {
   "display_name": "Python 3",
   "language": "python",
   "name": "python3"
  },
  "language_info": {
   "codemirror_mode": {
    "name": "ipython",
    "version": 3
   },
   "file_extension": ".py",
   "mimetype": "text/x-python",
   "name": "python",
   "nbconvert_exporter": "python",
   "pygments_lexer": "ipython3",
   "version": "3.6.9"
  }
 },
 "nbformat": 4,
 "nbformat_minor": 4
}
