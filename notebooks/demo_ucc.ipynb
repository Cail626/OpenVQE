{
 "cells": [
  {
   "cell_type": "code",
   "execution_count": null,
   "metadata": {},
   "outputs": [],
   "source": [
    "from openvqe.common_files.qubit_pool import QubitPool\n",
    "from openvqe.common_files.molecule_factory import MoleculeFactory\n",
    "from openvqe.ucc_family.get_energy_ucc import EnergyUCC\n",
    "from qat.fermion.transforms import (get_jw_code, recode_integer)\n",
    "\n",
    "qubit_pool = QubitPool()\n",
    "molecule_factory = MoleculeFactory()\n",
    "energy_ucc = EnergyUCC()"
   ]
  },
  {
   "cell_type": "code",
   "execution_count": null,
   "metadata": {},
   "outputs": [],
   "source": [
    "# user can type the name of molecule (H2, LIH, CO, CO2 such that their geormetries and properties are defined in MoleculeQlm())\n",
    "molecule_symbol = 'H2'\n",
    "# the type of generators: UCCSD, singlet_sd, singlet_gsd, spin_complement_gsd, spin_complement_gsd_twin, sUPCCGSD\n",
    "# suppose user type sUPCCGSD\n",
    "type_of_generator = 'sUPCCGSD'\n",
    "# user can type any of the following three transformations: JW,  Bravyi-Kitaev and Parity-basis\n",
    "transform = 'JW'\n",
    "# the non_active space selection\n",
    "active = False"
   ]
  },
  {
   "cell_type": "code",
   "execution_count": null,
   "metadata": {
    "scrolled": false
   },
   "outputs": [],
   "source": [
    "r, geometry, charge, spin, basis = molecule_factory.get_parameters(molecule_symbol)\n",
    "print(\" --------------------------------------------------------------------------\")\n",
    "print(\"Running in the non active case: \")\n",
    "print(\"                     molecule symbol: %s \" %(molecule_symbol))\n",
    "print(\"                     molecule basis: %s \" %(basis))\n",
    "print(\"                     type of generator: %s \" %(type_of_generator))\n",
    "print(\"                     transform: %s \" %(transform))\n",
    "print(\" --------------------------------------------------------------------------\")\n",
    "\n",
    "print(\" --------------------------------------------------------------------------\")\n",
    "print(\"                                                          \")\n",
    "print(\"                      Generate Hamiltonians and Properties:\")\n",
    "print(\"                                                          \")\n",
    "print(\" --------------------------------------------------------------------------\")\n",
    "print(\"                                                          \")\n",
    "\n",
    "hamiltonian, hamiltonian_sp, n_elec, noons_full, orb_energies_full, info = molecule_factory.generate_hamiltonian(molecule_symbol, active=active, transform=transform)\n",
    "\n",
    "print(\" --------------------------------------------------------------------------\")\n",
    "print(\"                                                          \")\n",
    "print(\"                      Generate Cluster OPS:\")\n",
    "print(\"                                                          \")\n",
    "print(\" --------------------------------------------------------------------------\")\n",
    "print(\"                                                           \")\n",
    "\n",
    "\n",
    "# properties \n",
    "nbqbits = hamiltonian_sp.nbqbits\n",
    "\n",
    "# for uccsd_case \n",
    "# pool_size,cluster_ops,cluster_ops_sp, theta_MP2, hf_init = molecule_factory.generate_cluster_ops(molecule_symbol,\n",
    "#                                         type_of_generator=type_of_generator, transform=transform, active=active)\n",
    "# hf_init_sp = recode_integer(hf_init, get_jw_code(hamiltonian_sp.nbqbits))\n",
    "\n",
    "# for other type of excitations like UCCGSD, k-UpCCGSD, spin-complement pairs etc  \n",
    "pool_size,cluster_ops,cluster_ops_sp = molecule_factory.generate_cluster_ops(molecule_symbol, \n",
    "                    type_of_generator=type_of_generator, transform=transform, active=active)\n",
    "hf_init = molecule_factory .find_hf_init(hamiltonian, n_elec, noons_full, orb_energies_full)\n",
    "reference_ket, hf_init_sp = molecule_factory.get_reference_ket(hf_init, nbqbits, transform)\n",
    "\n",
    "print('Pool size: ', pool_size)\n",
    "print('length of the cluster OP: ', len(cluster_ops))\n",
    "print('length of the cluster OPS: ', len(cluster_ops_sp))\n",
    "fci = info['FCI']\n"
   ]
  },
  {
   "cell_type": "code",
   "execution_count": null,
   "metadata": {},
   "outputs": [],
   "source": [
    "# suppose user wants to generate cluster operators using the Qubit Pool generators: then we can have two functions, \n",
    "# 1. generate_pool_without_cluster 2.generate_pool_from_cluster\n",
    "\n",
    "#1. using generate_pool_without_cluster:\n",
    "# pool_type = 'full_without_Z'\n",
    "# qubit_pool = QubitPool.generate_pool(cluster_ops)\n",
    "# len_returned_pool, returned_pool = qubit_pool.generate_pool_without_cluster(pool_type=pool_type, \n",
    "#                                                                         nbqbits=nbqbits, \n",
    "#                                                                         qubit_pool=qubit_pool,\n",
    "#                                                                         molecule_symbol=\n",
    "#                                                                         molecule_symbol)\n",
    "\n",
    "# 2. generate_pool_from_cluster\n",
    "pool_condition='reduced_without_Z'\n",
    "len_returned_pool, returned_pool = qubit_pool.generate_pool_from_cluster(pool_condition, cluster_ops, nbqbits)\n",
    "    "
   ]
  },
  {
   "cell_type": "code",
   "execution_count": null,
   "metadata": {},
   "outputs": [],
   "source": [
    "# HERE USER can apply UCC-family VQE using MP2 guess defined by theta_current1; and using either a constant value starting guess \n",
    "#(0.0,0.001,1.0, etc) or random numbers defined by theta_current2\n",
    "\n",
    "\n",
    "pool_generator = returned_pool\n",
    "theta_current2 = []\n",
    "for i in range(len(returned_pool)):\n",
    "    theta_current2.append(0.01)\n",
    "# when UCCSD is not used then one can make theta_current1 same as theta_current2     \n",
    "theta_current1  = theta_current2\n",
    "# define two lists: 1. ansatz_ops to append operators direct coming from fermionic evolutions (after spin-transformation) \n",
    "# and 2. ansatz_q_ops to append operators coming from \"Qubit Pool generators\"\n",
    "ansatz_ops = []\n",
    "ansatz_q_ops = []\n",
    "\n",
    "# important note: when UCCSD  is called at the top, then we must skip 1j in ansatz_ops (why? due to the internal functions defined by \"mqlm-fermion\" package)\n",
    "\n",
    "\n",
    "for i in cluster_ops_sp:\n",
    "    ansatz_ops.append(i*1j)\n",
    "for i in pool_generator:\n",
    "    ansatz_q_ops.append(i)\n",
    "    \n",
    "# now we can run EnergyUCC.get_energies to get to get the energies and properties (CNOT counts, )\n",
    "# 1.  from  UCC-family (with ansatz_ops and theta-current1) \n",
    "# 2. from  UCC-family but with qubit evolutions i.e from \"Qubit Pool\" (with ansatz_q_ops and theta-current2)\n",
    "\n",
    "iterations, result = energy_ucc.get_energies(hamiltonian_sp,ansatz_ops,ansatz_q_ops,hf_init_sp,theta_current1,theta_current2,fci)\n",
    "print(\"iterations are:\", iterations)\n",
    "print(\"results are:\", result)"
   ]
  },
  {
   "cell_type": "code",
   "execution_count": null,
   "metadata": {},
   "outputs": [],
   "source": [
    "print(iterations, result)"
   ]
  },
  {
   "cell_type": "code",
   "execution_count": null,
   "metadata": {},
   "outputs": [],
   "source": []
  }
 ],
 "metadata": {
  "kernelspec": {
   "display_name": "Python 3",
   "language": "python",
   "name": "python3"
  },
  "language_info": {
   "codemirror_mode": {
    "name": "ipython",
    "version": 3
   },
   "file_extension": ".py",
   "mimetype": "text/x-python",
   "name": "python",
   "nbconvert_exporter": "python",
   "pygments_lexer": "ipython3",
   "version": "3.6.9"
  }
 },
 "nbformat": 4,
 "nbformat_minor": 4
}
