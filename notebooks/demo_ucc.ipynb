{
 "cells": [
  {
   "cell_type": "code",
   "execution_count": 3,
   "metadata": {},
   "outputs": [],
   "source": [
    "from openvqe.vqe import VQE"
   ]
  },
  {
   "cell_type": "code",
   "execution_count": 4,
   "metadata": {},
   "outputs": [],
   "source": [
    "# user can type the name of molecule (H2, LIH, CO, CO2 such that their geormetries and properties are defined in MoleculeQlm())\n",
    "molecule_symbol = 'H2'\n",
    "# the type of generators: UCCSD, singlet_sd, singlet_gsd, spin_complement_gsd, spin_complement_gsd_twin, sUPCCGSD\n",
    "# suppose user type sUPCCGSD\n",
    "type_of_generator = 'sUPCCGSD'\n",
    "# user can type any of the following three transformations: JW,  Bravyi-Kitaev and Parity-basis\n",
    "transform = 'JW'\n",
    "# the non_active space selection\n",
    "active = False"
   ]
  },
  {
   "cell_type": "code",
   "execution_count": 5,
   "metadata": {},
   "outputs": [
    {
     "name": "stdout",
     "output_type": "stream",
     "text": [
      " --------------------------------------------------------------------------\n",
      "Running in the non active case: \n",
      " molecule symbol: H2 \n",
      "molecule basis: 6-31g \n",
      "type of generator: sUPCCGSD \n",
      "transform: JW \n",
      "options: {'step': 0.01} \n",
      " --------------------------------------------------------------------------\n",
      " --------------------------------------------------------------------------\n",
      "                                                          \n",
      "                      Generate Hamiltonians and Properties from :\n",
      "                                                          \n",
      " --------------------------------------------------------------------------\n",
      "                                                          \n",
      "Number of electrons =  2\n",
      "Number of qubits before active space selection =  8\n",
      "Orbital energies =  [-0.59279976  0.23579258  0.77956294  1.39138474]\n",
      "Nuclear repulsion =  0.70556961456\n",
      "Noons =  [1.9705947706867002, 0.024127481185769732, 0.005019126551194664, 0.0002586215763354261]\n",
      " --------------------------------------------------------------------------\n",
      "                                                          \n",
      "                      Generate Cluster OPS:\n",
      "                                                          \n",
      " --------------------------------------------------------------------------\n",
      "                                                           \n",
      "Form spin-adapted UpCCGSD operators pool: \n",
      "Pool size:  36\n",
      "length of the cluster OP:  36\n",
      "length of the cluster OPS:  36\n",
      " --------------------------------------------------------------------------\n",
      "                                                          \n",
      "                      Generate Pool from Cluster:\n",
      "                                                          \n",
      " --------------------------------------------------------------------------\n",
      "                                                           \n",
      "The current pool is reduced_without_Z\n",
      "tolerance=  0.0001\n",
      "method=  BFGS\n"
     ]
    },
    {
     "name": "stderr",
     "output_type": "stream",
     "text": [
      "/home/nathan/miniconda/envs/openvqe/lib/python3.11/site-packages/openvqe/common_files/molecule_factory.py:473: UserWarning: This guess_init_state function is deprecated.\n",
      "  _, _, hf_init = get_cluster_ops_and_init_guess(\n",
      "/home/nathan/miniconda/envs/openvqe/lib/python3.11/site-packages/tqdm/auto.py:21: TqdmWarning: IProgress not found. Please update jupyter and ipywidgets. See https://ipywidgets.readthedocs.io/en/stable/user_install.html\n",
      "  from .autonotebook import tqdm as notebook_tqdm\n"
     ]
    },
    {
     "name": "stdout",
     "output_type": "stream",
     "text": [
      "Optimization terminated successfully.\n",
      "         Current function value: -1.151689\n",
      "         Iterations: 32\n",
      "         Function evaluations: 760\n",
      "         Gradient evaluations: 40\n",
      "Optimization terminated successfully.\n",
      "         Current function value: -1.143323\n",
      "         Iterations: 11\n",
      "         Function evaluations: 418\n",
      "         Gradient evaluations: 22\n",
      "iterations are: {'minimum_energy_result1_guess': [-1.1516885455361772], 'minimum_energy_result2_guess': [-1.1433228515740375], 'theta_optimized_result1': [[-0.0014613903866998765, -0.004821433493245651, 0.009369016026938766, 0.004314550376230582, 0.008378591527264985, 0.011600224457440605, -0.10858256682196482, -0.05255181285793247, -0.015314630835684954, -0.02023926667795745, -0.03138182321349586, -0.007692596772005485, 0.0013326441307544422, -0.0011437511656627309, -0.00041316814693899136, -0.0043646266976174715, -0.6003496849563118, -0.0002346915874939363]], 'theta_optimized_result2': [[1.5326108250285396e-05, 1.9948836799260614e-05, -0.0014680189906757968, 0.00137367375018539, 7.583684729174262e-06, 7.481414489970211e-06, 9.380921836659619e-06, 6.961663897922602e-06, -0.0011600392482281263, 0.0011290773170466659, -4.889404724658874e-07, -1.323464560238322e-06, 0.06719822797733507, 0.05142248155890375, 0.042070446873773495, 0.0034558279086169715, 0.0028229694395745884, 0.002136836391096084]]}\n",
      "results are: {'CNOT1': 608, 'CNOT2': 608, 'len_op1': 18, 'len_op2': 18, 'energies1_substracted_from_FCI': 1.980430930359489e-09, 'energies2_substracted_from_FCI': 0.008365695942570639}\n",
      "{'minimum_energy_result1_guess': [-1.1516885455361772], 'minimum_energy_result2_guess': [-1.1433228515740375], 'theta_optimized_result1': [[-0.0014613903866998765, -0.004821433493245651, 0.009369016026938766, 0.004314550376230582, 0.008378591527264985, 0.011600224457440605, -0.10858256682196482, -0.05255181285793247, -0.015314630835684954, -0.02023926667795745, -0.03138182321349586, -0.007692596772005485, 0.0013326441307544422, -0.0011437511656627309, -0.00041316814693899136, -0.0043646266976174715, -0.6003496849563118, -0.0002346915874939363]], 'theta_optimized_result2': [[1.5326108250285396e-05, 1.9948836799260614e-05, -0.0014680189906757968, 0.00137367375018539, 7.583684729174262e-06, 7.481414489970211e-06, 9.380921836659619e-06, 6.961663897922602e-06, -0.0011600392482281263, 0.0011290773170466659, -4.889404724658874e-07, -1.323464560238322e-06, 0.06719822797733507, 0.05142248155890375, 0.042070446873773495, 0.0034558279086169715, 0.0028229694395745884, 0.002136836391096084]]} {'CNOT1': 608, 'CNOT2': 608, 'len_op1': 18, 'len_op2': 18, 'energies1_substracted_from_FCI': 1.980430930359489e-09, 'energies2_substracted_from_FCI': 0.008365695942570639}\n"
     ]
    }
   ],
   "source": [
    "VQE('ucc', molecule_symbol, type_of_generator, transform, active).execute()"
   ]
  }
 ],
 "metadata": {
  "kernelspec": {
   "display_name": "openvqe",
   "language": "python",
   "name": "python3"
  },
  "language_info": {
   "codemirror_mode": {
    "name": "ipython",
    "version": 3
   },
   "file_extension": ".py",
   "mimetype": "text/x-python",
   "name": "python",
   "nbconvert_exporter": "python",
   "pygments_lexer": "ipython3",
   "version": "3.11.10"
  }
 },
 "nbformat": 4,
 "nbformat_minor": 4
}
