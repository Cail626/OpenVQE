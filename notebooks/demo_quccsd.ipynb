{
 "cells": [
  {
   "cell_type": "code",
   "execution_count": 1,
   "metadata": {},
   "outputs": [],
   "source": [
    "from openvqe.vqe import VQE"
   ]
  },
  {
   "cell_type": "code",
   "execution_count": 2,
   "metadata": {},
   "outputs": [],
   "source": [
    "\n",
    "molecule_symbol = 'H4'\n",
    "type_of_generator = 'QUCCSD'\n",
    "transform = 'JW'\n",
    "active = False"
   ]
  },
  {
   "cell_type": "code",
   "execution_count": 3,
   "metadata": {},
   "outputs": [
    {
     "name": "stdout",
     "output_type": "stream",
     "text": [
      " --------------------------------------------------------------------------\n",
      "Running in the non active case: \n",
      "molecule symbol: H4 \n",
      "molecule basis: sto-3g \n",
      "type of generator: QUCCSD \n",
      "transform: JW \n",
      "options: {'step': 0.01} \n",
      " --------------------------------------------------------------------------\n",
      " --------------------------------------------------------------------------\n",
      "                                                          \n",
      "                      Generate Hamiltonians and Properties from :\n",
      "                                                          \n",
      " --------------------------------------------------------------------------\n",
      "                                                          \n",
      "Number of electrons =  4\n",
      "Number of qubits before active space selection =  8\n",
      "Orbital energies =  [-0.70984573 -0.40884768  0.3923348   1.16930558]\n",
      "Nuclear repulsion =  2.697766173317647\n",
      "Noons =  [1.9815824748827575, 1.943333995738232, 0.0605480769532786, 0.014535452425732093]\n",
      " --------------------------------------------------------------------------\n",
      "                                                          \n",
      "                      Generate Cluster OPS:\n",
      "                                                          \n",
      " --------------------------------------------------------------------------\n",
      "                                                           \n"
     ]
    },
    {
     "name": "stderr",
     "output_type": "stream",
     "text": [
      "/home/nathan/miniconda/envs/openvqe/lib/python3.11/site-packages/openvqe/common_files/generator_excitations.py:76: UserWarning: This guess_init_state function is deprecated.\n",
      "  cluster_ops, theta_MP2, hf_init = get_cluster_ops_and_init_guess(\n"
     ]
    },
    {
     "name": "stdout",
     "output_type": "stream",
     "text": [
      "Pool size:  26\n",
      "length of the cluster OP:  26\n",
      "length of the cluster OPS:  26\n",
      "tolerance=  1e-05\n",
      "method=  BFGS\n"
     ]
    },
    {
     "name": "stderr",
     "output_type": "stream",
     "text": [
      "/home/nathan/miniconda/envs/openvqe/lib/python3.11/site-packages/tqdm/auto.py:21: TqdmWarning: IProgress not found. Please update jupyter and ipywidgets. See https://ipywidgets.readthedocs.io/en/stable/user_install.html\n",
      "  from .autonotebook import tqdm as notebook_tqdm\n"
     ]
    },
    {
     "name": "stdout",
     "output_type": "stream",
     "text": [
      "Optimization terminated successfully.\n",
      "         Current function value: -2.177006\n",
      "         Iterations: 15\n",
      "         Function evaluations: 459\n",
      "         Gradient evaluations: 17\n",
      "Optimization terminated successfully.\n",
      "         Current function value: -2.177006\n",
      "         Iterations: 17\n",
      "         Function evaluations: 486\n",
      "         Gradient evaluations: 18\n",
      "iterations are: {'minimum_energy_result1_guess': [-2.1770061633265416], 'minimum_energy_result2_guess': [-2.177006163451335], 'theta_optimized_result1': [[-0.005359244036863687, -0.0034431242872128465, 1.3696903138144727e-06, -3.3466788891040534e-07, 5.477059698937805e-08, -2.302161231903864e-08, 0.007204765655852585, -0.00547263184732753, -0.035959684044934784, 8.22814066262912e-08, 2.275313997724909e-09, -0.07736529489568536, -0.07865077650088723, 1.3738872829908758e-07, -0.14303932829553112, 0.020935157139322605, 1.47404420943392e-07, 3.3747690912388867e-07, 0.09482516040920982, -0.07354500904042056, -7.34200907298733e-08, 0.030939018744167445, -0.3015444052870756, 3.500236057246468e-07, -2.0999359679184606e-07, -0.09590462611319002]], 'theta_optimized_result2': [[-0.005358889734848058, -0.00344241028414338, -9.894394037225345e-07, 1.0866859914795526e-06, -7.858987861035686e-07, 7.795210301726437e-07, 0.007205711893083983, -0.005476225847155873, -0.03595971729695208, -1.8758600448825717e-07, -7.385659321387034e-07, -0.0773632821516264, -0.0786539636250635, -3.0947195391277453e-07, -0.14303154286233222, 0.020947300300710816, -1.1789120687661604e-07, 7.884142399598801e-07, 0.09483915892218815, -0.07353509686541106, -1.947479300329461e-06, 0.030938706453178175, -0.3015427119811348, 1.687217853509375e-06, 1.032116235314866e-06, -0.09591197931040792]]}\n",
      "results are: {'CNOT1': 292, 'CNOT2': 292, 'len_op1': 26, 'len_op2': 26, 'energies1_substracted_from_FCI': 0.0013074695538590753, 'energies2_substracted_from_FCI': 0.0013074694290655664}\n"
     ]
    }
   ],
   "source": [
    "VQE('quccsd', molecule_symbol, type_of_generator, transform, active).execute()"
   ]
  }
 ],
 "metadata": {
  "kernelspec": {
   "display_name": "openvqe",
   "language": "python",
   "name": "python3"
  },
  "language_info": {
   "codemirror_mode": {
    "name": "ipython",
    "version": 3
   },
   "file_extension": ".py",
   "mimetype": "text/x-python",
   "name": "python",
   "nbconvert_exporter": "python",
   "pygments_lexer": "ipython3",
   "version": "3.11.10"
  }
 },
 "nbformat": 4,
 "nbformat_minor": 4
}
