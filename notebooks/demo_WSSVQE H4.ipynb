{
 "cells": [
  {
   "cell_type": "code",
   "execution_count": 8,
   "metadata": {},
   "outputs": [],
   "source": [
    "from qat.fermion.chemistry.pyscf_tools import perform_pyscf_computation\n",
    "import numpy as np\n",
    "from qat.core import Observable, Term\n",
    "import numpy as np\n",
    "import scipy\n",
    "from numpy import binary_repr\n",
    "from qat.fermion import ElectronicStructureHamiltonian\n",
    "from qat.fermion.chemistry.pyscf_tools import perform_pyscf_computation\n",
    "\n",
    "from qat.lang.AQASM import Program, QRoutine, RY, CNOT, RX, Z, H, RZ, I\n",
    "from qat.core import Observable, Term, Circuit\n",
    "from qat.lang.AQASM.gates import Gate\n",
    "import matplotlib as mpl\n",
    "import numpy as np\n",
    "from typing import Optional, List\n",
    "import warnings"
   ]
  },
  {
   "cell_type": "code",
   "execution_count": null,
   "metadata": {},
   "outputs": [],
   "source": [
    "from openvqe.common_files.get_energy_WSSVQE import * # this file.py import all the defined function to here .ipynb"
   ]
  },
  {
   "cell_type": "code",
   "execution_count": 10,
   "metadata": {},
   "outputs": [],
   "source": [
    "#model = ising(4) \n",
    "#print(\"Transverse Ising Model:\", model)"
   ]
  },
  {
   "cell_type": "code",
   "execution_count": 11,
   "metadata": {},
   "outputs": [],
   "source": [
    "name = Molecule_Generator(\"H2\")"
   ]
  },
  {
   "cell_type": "code",
   "execution_count": null,
   "metadata": {},
   "outputs": [],
   "source": [
    "r, geometry, charge, spin, basis = name\n",
    "(\n",
    "    rdm1,\n",
    "    orbital_energies,\n",
    "    nuclear_repulsion,\n",
    "    n_elec,\n",
    "    one_body_integrals,\n",
    "    two_body_integrals,\n",
    "    info,\n",
    ") = perform_pyscf_computation(\n",
    "    geometry=geometry, basis=basis, spin=spin, charge=charge, run_fci=True\n",
    ")\n",
    "print(\"Number of electrons = \", n_elec)\n",
    "nqbits = rdm1.shape[0] * 2\n",
    "print(\"Number of qubits before active space selection = \", nqbits)\n",
    "# print(\"rdm1\", rdm1)\n",
    "# print(info)\n",
    "print(\"Orbital energies = \", orbital_energies)\n",
    "print(\"Nuclear repulsion = \", nuclear_repulsion)"
   ]
  },
  {
   "cell_type": "code",
   "execution_count": null,
   "metadata": {},
   "outputs": [],
   "source": [
    "from qat.fermion.chemistry import MolecularHamiltonian, MoleculeInfo\n",
    "from qat.fermion.transforms import transform_to_jw_basis\n",
    "\n",
    "mol_h = MolecularHamiltonian(one_body_integrals, two_body_integrals, nuclear_repulsion)\n",
    "H = mol_h.get_electronic_hamiltonian()\n",
    "hamiltonian_sp = transform_to_jw_basis(H)\n",
    "print(hamiltonian_sp)"
   ]
  },
  {
   "cell_type": "code",
   "execution_count": 14,
   "metadata": {},
   "outputs": [],
   "source": [
    "#Define the model \n",
    "model = hamiltonian_sp"
   ]
  },
  {
   "cell_type": "markdown",
   "metadata": {},
   "source": [
    "#### Step 2: Define the ansazt model and display "
   ]
  },
  {
   "cell_type": "code",
   "execution_count": null,
   "metadata": {},
   "outputs": [],
   "source": [
    "nqbits = 4\n",
    "depth = 4\n",
    "\n",
    "\n",
    "k_lst = [0, 1]\n",
    "prog = Program()\n",
    "init_theta_list = np.random.random(2 * nqbits * (depth + 1) + 2) * 1e-1  # Imported as it is on the SSVQE qulacs\n",
    "theta = [prog.new_var(float, rf\"\\theta_{{{i}}}\") for i in range(len(init_theta_list))]\n",
    "\n",
    "\n",
    "\n",
    "\n",
    "def create_circuit(k):\n",
    "    return circuit_ansatz(4, k, 4, theta)\n",
    "\n",
    "# Create and store circuits in a list\n",
    "circuits_store = [create_circuit(k) for k in k_lst]\n",
    "\n",
    "# Display the circuits\n",
    "for circ_dis in circuits_store:\n",
    "    circ_dis.display()\n",
    "\n",
    "\n",
    "weight = [2,1]\n"
   ]
  },
  {
   "cell_type": "code",
   "execution_count": null,
   "metadata": {},
   "outputs": [],
   "source": [
    "import numpy as np\n",
    "import scipy.optimize\n",
    "import matplotlib.pyplot as plt\n",
    "from numpy import binary_repr\n",
    "from qat.qpus import get_default_qpu\n",
    "\n",
    "qpu = get_default_qpu()\n",
    "method = \"BFGS\"\n",
    "model = hamiltonian_sp\n",
    "vals = 15\n",
    "\n",
    "eigenvec_input_tar = calculate_eigen_vectors(model, vals)\n",
    "eigenvec_input = [eigenvec_input_tar[2],eigenvec_input_tar[8]] \n",
    "\n",
    "\n",
    "energy_lists = {f\"energy_circ_{i}\": {method: []} for i in range(len(circuits_store))}\n",
    "fidelity_lists = {f\"fidelity_circ_{i}\": {method: []} for i in range(len(circuits_store))}\n",
    "\n",
    "\n",
    "input_funct, callback = opt_funct(circuits_store, model, qpu, nqbits, energy_lists, fidelity_lists, weight, eigenvec_input)\n",
    "options = {\"disp\": True, \"maxiter\": 3500, \"gtol\": 1e-7}\n",
    "Optimizer = scipy.optimize.minimize(input_funct, x0=init_theta_list, method=method, callback=callback, options=options)\n",
    "\n"
   ]
  },
  {
   "cell_type": "code",
   "execution_count": null,
   "metadata": {},
   "outputs": [],
   "source": [
    "#Storing information\n",
    "\n",
    "iterations = {\n",
    "    \"minimum_energy_result\": [],\n",
    "    \"theta_optimized_result\": [],\n",
    "    \"optimized_result_ground\": [],\n",
    "    \"optimized_result_exci\": [],\n",
    "\n",
    "}\n",
    "\n",
    "xlist = Optimizer.fun\n",
    "ylist = Optimizer.x\n",
    "\n",
    "\n",
    "opt_circ_ground = circuits_store[0].bind_variables({k: v for k, v in zip(sorted(circuits_store[0].get_variables()), Optimizer.x)})\n",
    "zlist_ground = {k: v for k, v in zip(sorted(circuits_store[0].get_variables()), Optimizer.x)} \n",
    "\n",
    "opt_circ_exci = circuits_store[1].bind_variables({k: v for k, v in zip(sorted(circuits_store[0].get_variables()), Optimizer.x)})\n",
    "zlist_exci = {k: v for k, v in zip(sorted(circuits_store[1].get_variables()), Optimizer.x)} \n",
    "\n",
    "\n",
    "\n",
    "\n",
    "iterations[\"minimum_energy_result\"].append(xlist) \n",
    "iterations[\"theta_optimized_result\"].append(ylist)\n",
    "iterations[\"optimized_result_ground\"].append(zlist_ground ) \n",
    "iterations[\"optimized_result_exci\"].append(zlist_exci)\n",
    "\n",
    "print(iterations)"
   ]
  },
  {
   "cell_type": "markdown",
   "metadata": {},
   "source": [
    "#### Plotting results"
   ]
  },
  {
   "cell_type": "code",
   "execution_count": null,
   "metadata": {},
   "outputs": [],
   "source": [
    "# Plot energy\n",
    "plt.rcParams[\"font.size\"] = 18\n",
    "all_energy_lists = []\n",
    "\n",
    "for i in range(len(circuits_store)):\n",
    "    energy_list = energy_lists[f\"energy_circ_{i}\"][method]\n",
    "    all_energy_lists.append(energy_list)\n",
    "    plt.plot(range(len(energy_list)), energy_list, label=f\"Energy for k={binary_repr(k_lst[i]).zfill(4)}\")\n",
    "\n",
    "    # Print the final energy for each k\n",
    "    final_energy = energy_list[-1]\n",
    "    print(f\"Final energy for k={binary_repr(k_lst[i]).zfill(4)}: {final_energy}\")\n",
    "\n",
    "plt.xlabel(\"Iterations\")\n",
    "plt.ylabel(\"Energy\")\n",
    "plt.title(\"Energy Evolution\")\n",
    "plt.legend(bbox_to_anchor=(1.05, 1), loc='upper left', borderaxespad=0, fontsize=18)\n",
    "plt.show()\n",
    "\n",
    "# Plot fidelity\n",
    "plt.figure()\n",
    "all_fidelity_lists = []\n",
    "for i in range(len(circuits_store)):\n",
    "    fidelity_list = fidelity_lists[f\"fidelity_circ_{i}\"][method]\n",
    "    all_fidelity_lists.append(fidelity_list)\n",
    "    plt.plot(range(len(fidelity_list)), fidelity_list, label=f\"Fidelity for k={binary_repr(k_lst[i]).zfill(4)}\")\n",
    "\n",
    "    # Print the final fidelity for each k\n",
    "    final_fidelity = fidelity_list[-1]\n",
    "    print(f\"Final fidelity for k={binary_repr(k_lst[i]).zfill(4)}: {final_fidelity}\")\n",
    "\n",
    "\n",
    "plt.xlabel(\"Iterations\")\n",
    "plt.ylabel(\"Fidelity\")\n",
    "plt.title(\"Fidelity Evolution\")\n",
    "plt.legend(bbox_to_anchor=(1.05, 1), loc='upper left', borderaxespad=0, fontsize=18)\n",
    "plt.show()"
   ]
  },
  {
   "cell_type": "code",
   "execution_count": null,
   "metadata": {},
   "outputs": [],
   "source": []
  },
  {
   "cell_type": "code",
   "execution_count": null,
   "metadata": {},
   "outputs": [],
   "source": []
  },
  {
   "cell_type": "code",
   "execution_count": null,
   "metadata": {},
   "outputs": [],
   "source": []
  },
  {
   "cell_type": "code",
   "execution_count": null,
   "metadata": {},
   "outputs": [],
   "source": []
  },
  {
   "cell_type": "code",
   "execution_count": null,
   "metadata": {},
   "outputs": [],
   "source": []
  }
 ],
 "metadata": {
  "kernelspec": {
   "display_name": "openvqe",
   "language": "python",
   "name": "python3"
  },
  "language_info": {
   "codemirror_mode": {
    "name": "ipython",
    "version": 3
   },
   "file_extension": ".py",
   "mimetype": "text/x-python",
   "name": "python",
   "nbconvert_exporter": "python",
   "pygments_lexer": "ipython3",
   "version": "3.11.10"
  }
 },
 "nbformat": 4,
 "nbformat_minor": 4
}
