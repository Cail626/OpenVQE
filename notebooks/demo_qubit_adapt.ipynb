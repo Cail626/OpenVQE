{
 "cells": [
  {
   "cell_type": "code",
   "execution_count": null,
   "metadata": {},
   "outputs": [],
   "source": [
    "from openvqe.vqe import VQE"
   ]
  },
  {
   "cell_type": "code",
   "execution_count": null,
   "metadata": {},
   "outputs": [],
   "source": [
    "molecule_symbol = 'H2'\n",
    "# In qubit ADAPT-VQE normally we choose the generalized single and double excitations\n",
    "type_of_generator = 'singlet_gsd'\n",
    "transform = 'JW'\n",
    "active = False\n",
    "opts = {\n",
    "        'n_max_grads': 1,\n",
    "        'optimizer': 'BFGS',\n",
    "        'tolerance': 10**(-9),\n",
    "        'type_conver': 'norm',\n",
    "        'threshold_needed': 1e-7,\n",
    "        'max_external_iterations': 29\n",
    "    }"
   ]
  },
  {
   "cell_type": "code",
   "execution_count": null,
   "metadata": {
    "scrolled": false
   },
   "outputs": [],
   "source": [
    "VQE('qubit_adapt', molecule_symbol, type_of_generator, transform, active, opts).execute()"
   ]
  }
 ],
 "metadata": {
  "kernelspec": {
   "display_name": "openvqe",
   "language": "python",
   "name": "python3"
  },
  "language_info": {
   "codemirror_mode": {
    "name": "ipython",
    "version": 3
   },
   "file_extension": ".py",
   "mimetype": "text/x-python",
   "name": "python",
   "nbconvert_exporter": "python",
   "pygments_lexer": "ipython3",
   "version": "3.11.10"
  }
 },
 "nbformat": 4,
 "nbformat_minor": 4
}
