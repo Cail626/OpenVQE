{
 "cells": [
  {
   "cell_type": "code",
   "execution_count": null,
   "metadata": {},
   "outputs": [],
   "source": [
    "from openvqe.adapt.qubit_adapt_vqe import qubit_adapt_vqe\n",
    "from openvqe.common_files.qubit_pool import QubitPool\n",
    "from openvqe.common_files.molecule_factory_with_sparse import MoleculeFactory\n",
    "\n",
    "qubitpool = QubitPool()\n",
    "molecule_factory = MoleculeFactory()\n"
   ]
  },
  {
   "cell_type": "code",
   "execution_count": null,
   "metadata": {},
   "outputs": [],
   "source": [
    "molecule_symbol = 'H2'\n",
    "# In qubit ADAPT-VQE normally we choose the generalized single and double excitations\n",
    "type_of_generator = 'singlet_gsd'\n",
    "transform = 'JW'\n",
    "active = False"
   ]
  },
  {
   "cell_type": "code",
   "execution_count": null,
   "metadata": {},
   "outputs": [],
   "source": [
    "r, geometry, charge, spin, basis = molecule_factory.get_parameters(molecule_symbol)\n",
    "print(\" --------------------------------------------------------------------------\")\n",
    "print(\"Running in the non active case: \")\n",
    "print(\"                     molecule symbol: %s \" %(molecule_symbol))\n",
    "print(\"                     molecule basis: %s \" %(basis))\n",
    "print(\"                     type of generator: %s \" %(type_of_generator))\n",
    "print(\"                     transform: %s \" %(transform))\n",
    "print(\" --------------------------------------------------------------------------\")\n",
    "\n",
    "print(\" --------------------------------------------------------------------------\")\n",
    "print(\"                                                          \")\n",
    "print(\"                      Generate Hamiltonians and Properties from :\")\n",
    "print(\"                                                          \")\n",
    "print(\" --------------------------------------------------------------------------\")\n",
    "print(\"                                                          \")\n",
    "hamiltonian, hamiltonian_sparse, hamiltonian_sp, hamiltonian_sp_sparse, n_elec, noons_full, orb_energies_full, info = molecule_factory.generate_hamiltonian(molecule_symbol,active=active, transform=transform)\n",
    "nbqbits = len(orb_energies_full)\n",
    "hf_init = molecule_factory.find_hf_init(hamiltonian, n_elec, noons_full, orb_energies_full)\n",
    "reference_ket, hf_init_sp = molecule_factory.get_reference_ket(hf_init, nbqbits, transform)\n",
    "print(\" --------------------------------------------------------------------------\")\n",
    "print(\"                                                          \")\n",
    "print(\"                      Generate Cluster OPS from :\")\n",
    "print(\"                                                          \")\n",
    "print(\" --------------------------------------------------------------------------\")\n",
    "print(\"                                                          \")\n",
    "\n",
    "pool_size,cluster_ops, cluster_ops_sp, cluster_ops_sparse = molecule_factory.generate_cluster_ops(molecule_symbol, type_of_generator=type_of_generator, transform=transform, active=active)\n",
    "\n",
    "print('Pool size: ', pool_size)\n",
    "print('length of the cluster OP: ', len(cluster_ops))\n",
    "print('length of the cluster OPS: ', len(cluster_ops_sp))\n",
    "print('length of the cluster _sparse: ', len(cluster_ops_sp))"
   ]
  },
  {
   "cell_type": "code",
   "execution_count": null,
   "metadata": {
    "scrolled": false
   },
   "outputs": [],
   "source": [
    "nbqbits = hamiltonian_sp.nbqbits\n",
    "# user can just type the name of pool wanted: full, full_without_Z, reduced_without_Z, YXXX, XYXX,XXYX,XXXY,random, two, four, eight\n",
    "# pure_with_symmetry\n",
    "\n",
    "# for example here user can put radom (YXXX, XYXX, XXYX, XXXY):\n",
    "pool_type = 'random'\n",
    "qubit_pool =qubitpool.generate_pool(cluster_ops)\n",
    "len_returned_pool, returned_pool = qubitpool.generate_pool_without_cluster(pool_type=pool_type, \n",
    "                                                                        nbqbits=nbqbits, \n",
    "                                                                        qubit_pool=qubit_pool,\n",
    "                                                                        molecule_symbol=molecule_symbol)\n",
    "# or user can type:\n",
    "# pool_condition='full_without_Z'\n",
    "# len_returned_pool, returned_pool = qubitpool.generate_hamiltonian_from_cluster(pool_condition, cluster_ops, nbqbits)\n",
    "pool_mix = returned_pool\n",
    "pool_pure = returned_pool\n",
    "print(\"length of the pool\",len(pool_mix))\n",
    "iterations_sim, result_sim = qubit_adapt_vqe(hamiltonian_sp, hamiltonian_sp_sparse,\n",
    "       reference_ket, nbqbits, pool_mix, hf_init_sp, info['FCI'],\n",
    "        chosen_grad = 1,\n",
    "        adapt_conver    = 'norm',\n",
    "        adapt_thresh    = 1e-07,\n",
    "        adapt_maxiter   = 29,\n",
    "        tolerance_sim = 1e-09,\n",
    "        method_sim = 'BFGS')\n",
    "print(\"iterations\",iterations_sim)    \n",
    "print(\"results\",result_sim)"
   ]
  }
 ],
 "metadata": {
  "kernelspec": {
   "display_name": "openvqe",
   "language": "python",
   "name": "python3"
  },
  "language_info": {
   "codemirror_mode": {
    "name": "ipython",
    "version": 3
   },
   "file_extension": ".py",
   "mimetype": "text/x-python",
   "name": "python",
   "nbconvert_exporter": "python",
   "pygments_lexer": "ipython3",
   "version": "3.11.10"
  }
 },
 "nbformat": 4,
 "nbformat_minor": 4
}
