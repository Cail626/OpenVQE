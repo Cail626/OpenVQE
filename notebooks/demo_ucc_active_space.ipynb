{
 "cells": [
  {
   "cell_type": "code",
   "execution_count": null,
   "metadata": {},
   "outputs": [],
   "source": [
    "from qat.fermion.transforms import (get_jw_code, recode_integer)\n",
    "from openvqe.common_files.qubit_pool import QubitPool\n",
    "from openvqe.common_files.molecule_factory import MoleculeFactory\n",
    "from openvqe.ucc_family.get_energy_ucc import EnergyUCC\n",
    "\n",
    "qubitpool = QubitPool()\n",
    "molecule_factory = MoleculeFactory()\n",
    "energy_ucc = EnergyUCC()"
   ]
  },
  {
   "cell_type": "code",
   "execution_count": null,
   "metadata": {},
   "outputs": [],
   "source": [
    "molecule_symbol = 'H4'\n",
    "type_of_generator = 'sUPCCGSD'\n",
    "transform = 'JW'\n",
    "# the user type \"active = True\" the active space selection case\n",
    "# Here user is obliged to check the thresholds epsilon_1 and epsilon_2  inserted in \"MoleculeFactory\" to select: the active electorns and active orbitals\n",
    "active = True"
   ]
  },
  {
   "cell_type": "markdown",
   "metadata": {},
   "source": []
  },
  {
   "cell_type": "code",
   "execution_count": null,
   "metadata": {
    "scrolled": false
   },
   "outputs": [],
   "source": [
    "r, geometry, charge, spin, basis = molecule_factory.get_parameters(molecule_symbol)\n",
    "print(\" --------------------------------------------------------------------------\")\n",
    "print(\"Running in the active case: \")\n",
    "print(\"                     molecule symbol: %s \" %(molecule_symbol))\n",
    "print(\"                     molecule basis: %s \" %(basis))\n",
    "print(\"                     type of generator: %s \" %(type_of_generator))\n",
    "print(\"                     transform: %s \" %(transform))\n",
    "print(\" --------------------------------------------------------------------------\")\n",
    "\n",
    "print(\" --------------------------------------------------------------------------\")\n",
    "print(\"                                                          \")\n",
    "print(\"                      Generate Hamiltonians and Properties from :\")\n",
    "print(\"                                                          \")\n",
    "print(\" --------------------------------------------------------------------------\")\n",
    "print(\"                                                          \")\n",
    "\n",
    "hamiltonian, hamiltonian_sp, n_elec, noons_full, orb_energies_full, info = molecule_factory.generate_hamiltonian(molecule_symbol, active=active, transform=transform)\n",
    "\n",
    "print(\" --------------------------------------------------------------------------\")\n",
    "print(\"                                                          \")\n",
    "print(\"                      Generate Cluster OPS from :\")\n",
    "print(\"                                                          \")\n",
    "print(\" --------------------------------------------------------------------------\")\n",
    "print(\"                                                          \")\n",
    "\n",
    "# for UCCSD\n",
    "# pool_size,cluster_ops,cluster_ops_sp, theta_MP2, hf_init = molecule_factory.generate_cluster_ops(molecule_symbol, type_of_generator=type_of_generator, \n",
    "#                                transform=transform, active=active)\n",
    "# hf_init_sp = recode_integer(hf_init, get_jw_code(hamiltonian_sp.nbqbits))\n",
    "\n",
    "\n",
    "# for other types of generators\n",
    "pool_size,cluster_ops,cluster_ops_sp =molecule_factory.generate_cluster_ops(molecule_symbol, \n",
    "                    type_of_generator=type_of_generator, transform=transform, active=active)\n",
    "hf_init = molecule_factory.find_hf_init(hamiltonian, n_elec, noons_full, orb_energies_full)\n",
    "nbqbits = hamiltonian_sp.nbqbits\n",
    "reference_ket, hf_init_sp = molecule_factory.get_reference_ket(hf_init, nbqbits, transform)\n",
    "\n",
    "\n",
    "\n",
    "print('Pool size: ', pool_size)\n",
    "print('length of the cluster OP: ', len(cluster_ops))\n",
    "print('length of the cluster OPS: ', len(cluster_ops_sp))\n",
    "FCI = info['FCI']\n",
    "# print(hf_init_sp)"
   ]
  },
  {
   "cell_type": "code",
   "execution_count": null,
   "metadata": {},
   "outputs": [],
   "source": [
    "nbqbits = hamiltonian_sp.nbqbits\n",
    "pool_type = 'without_Z_from_generator'\n",
    "qubit_pool = qubitpool.generate_pool(cluster_ops)\n",
    "len_returned_pool, returned_pool = qubitpool.generate_pool_without_cluster(pool_type=pool_type, \n",
    "                                                                        nbqbits=nbqbits, \n",
    "                                                                        qubit_pool=qubit_pool,\n",
    "                                                                        molecule_symbol=\n",
    "                                                                        molecule_symbol)\n",
    "\n",
    "# pool_condition='full_without_Z'\n",
    "# len_returned_pool, returned_pool = qubitpool.generate_hamiltonian_from_cluster(pool_condition, cluster_ops, nbqbits)\n",
    "    "
   ]
  },
  {
   "cell_type": "code",
   "execution_count": null,
   "metadata": {},
   "outputs": [],
   "source": [
    "# theta_current1 = theta_MP2\n",
    "# theta_current2 = theta_MP2\n",
    "# print(theta_current1)\n",
    "print(len(cluster_ops_sp))\n",
    "pool_generator = returned_pool\n",
    "theta_current1 = []\n",
    "theta_current2 = []\n",
    "ansatz_ops = []\n",
    "ansatz_q_ops = []\n",
    "for i in range(len(cluster_ops_sp)):\n",
    "    theta_current1.append(0.01)\n",
    "\n",
    "for i in range(len(returned_pool)):\n",
    "    theta_current2.append(0.01)\n",
    "# for UCCS skip 1j\n",
    "for i in cluster_ops_sp:\n",
    "    ansatz_ops.append(i*1j)\n",
    "for i in pool_generator:\n",
    "    ansatz_q_ops.append(i)\n",
    "iterations, result = energy_ucc.get_energies(hamiltonian_sp,ansatz_ops,ansatz_q_ops,hf_init_sp,theta_current1,theta_current2,FCI)\n",
    "print(\"iterations are:\", iterations)\n",
    "print(\"results are:\", result)"
   ]
  },
  {
   "cell_type": "code",
   "execution_count": null,
   "metadata": {},
   "outputs": [],
   "source": [
    "print(iterations, result)"
   ]
  },
  {
   "cell_type": "code",
   "execution_count": null,
   "metadata": {},
   "outputs": [],
   "source": []
  }
 ],
 "metadata": {
  "kernelspec": {
   "display_name": "Python 3",
   "language": "python",
   "name": "python3"
  },
  "language_info": {
   "codemirror_mode": {
    "name": "ipython",
    "version": 3
   },
   "file_extension": ".py",
   "mimetype": "text/x-python",
   "name": "python",
   "nbconvert_exporter": "python",
   "pygments_lexer": "ipython3",
   "version": "3.6.9"
  }
 },
 "nbformat": 4,
 "nbformat_minor": 4
}
